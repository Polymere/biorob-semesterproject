{
 "cells": [
  {
   "cell_type": "code",
   "execution_count": 1,
   "metadata": {},
   "outputs": [],
   "source": [
    "import pandas as pd\n",
    "import matplotlib.pyplot as plt\n",
    "\n",
    "from data_analysis.event_detection import *\n",
    "import numpy as np\n",
    "from utils.plot_utils import plot_mean_std_fill\n",
    "\n",
    "import warnings\n",
    "warnings.filterwarnings('ignore')"
   ]
  },
  {
   "cell_type": "markdown",
   "metadata": {},
   "source": [
    "## Gait comparison (Python/CPP/Winter)"
   ]
  },
  {
   "cell_type": "code",
   "execution_count": null,
   "metadata": {},
   "outputs": [],
   "source": [
    "WINTER_PATH=\"../../data/winter_data/\"\n",
    "win_df_data=pd.read_csv(WINTER_PATH+\"data_normal.csv\")\n",
    "win_df_std=pd.read_csv(WINTER_PATH+\"std_normal.csv\")\n",
    "\n",
    "RAW_REFERENCE_PATH=\"../../data/raw_reference.csv\"\n",
    "\n",
    "DIR_REF_CPP=\"../../data/ref_cpp/\"\n",
    "\n",
    "df=pd.read_csv(open(RAW_REFERENCE_PATH))\n",
    "\n",
    "sub_hip=df.filter(like=\"hip\",axis=1)\n",
    "df[sub_hip.columns]=-df[sub_hip.columns]\n",
    "\n",
    "contact=pd.read_csv(DIR_REF_CPP+\"footfall1\",sep=\" \")\n",
    "joints=pd.read_csv(DIR_REF_CPP+\"joints_angle1\",sep=\" \")"
   ]
  },
  {
   "cell_type": "code",
   "execution_count": null,
   "metadata": {},
   "outputs": [],
   "source": [
    "what=\"hip\"\n",
    "#WINTER NORMAL\n",
    "mean_win=interp_gaitprcent(win_df_data[what],100)\n",
    "std_win=interp_gaitprcent(win_df_std[what],100)\n",
    "ax=plot_mean_std_fill(mean_win,std_win,'g')\n",
    "# CPP MODEL\n",
    "metric='HIP_RIGHT'\n",
    "rep,var=get_rep_var_from_contact(contact,metric,joints)\n",
    "plot_mean_std_fill(-rep*180/np.pi,var*180/np.pi,'r',ax)\n",
    "\n",
    "# PYTHON MODEL\n",
    "mean_exp,std_exp=get_mean_std_stride(df,\"angles_\"+what+\"_r\",interp=True,stride_choice=\"repmax\")\n",
    "plot_mean_std_fill(mean_exp*180/np.pi,std_exp*180/np.pi,'b',ax)\n",
    "\n",
    "plt.title(\"Hip angle\")\n",
    "plt.xlabel(\"gait %\")\n",
    "plt.ylabel(\"Angle [deg]\")\n",
    "plt.legend([\"Winter\",\"CPP\",\"Python\"])\n",
    "plt.xlim([0,100])\n",
    "plt.tight_layout()\n",
    "plt.savefig(\"hip_cmp.png\",dpi=300)"
   ]
  },
  {
   "cell_type": "code",
   "execution_count": null,
   "metadata": {},
   "outputs": [],
   "source": [
    "what=\"ankle\"\n",
    "\n",
    "\n",
    "#WINTER NORMAL\n",
    "mean_win=interp_gaitprcent(win_df_data[what],100)\n",
    "std_win=interp_gaitprcent(win_df_std[what],100)\n",
    "ax=plot_mean_std_fill(mean_win,std_win,'g')\n",
    "# CPP MODEL\n",
    "metric='ANKLE_RIGHT'\n",
    "rep,var=get_rep_var_from_contact(contact,metric,joints)\n",
    "plot_mean_std_fill(-rep*180/np.pi,var*180/np.pi,'r',ax)\n",
    "\n",
    "# PYTHON MODEL\n",
    "mean_exp,std_exp=get_mean_std_stride(df,\"angles_\"+what+\"_r\",interp=True,stride_choice=\"repmax\")\n",
    "plot_mean_std_fill(mean_exp*180/np.pi,std_exp*180/np.pi,'b',ax)\n",
    "\n",
    "plt.title(\"Ankle angle\")\n",
    "plt.xlabel(\"gait %\")\n",
    "plt.ylabel(\"Angle [deg]\")\n",
    "plt.legend([\"Winter\",\"CPP\",\"Python\"])\n",
    "plt.xlim([0,100])\n",
    "plt.tight_layout()\n",
    "plt.savefig(\"ankle_cmp.png\",dpi=300)"
   ]
  },
  {
   "cell_type": "code",
   "execution_count": null,
   "metadata": {},
   "outputs": [],
   "source": [
    "what=\"knee\"\n",
    "\n",
    "\n",
    "#WINTER NORMAL\n",
    "mean_win=interp_gaitprcent(win_df_data[what],100)\n",
    "std_win=interp_gaitprcent(win_df_std[what],100)\n",
    "ax=plot_mean_std_fill(mean_win,std_win,'g')\n",
    "# CPP MODEL\n",
    "metric='KNEE_RIGHT'\n",
    "rep,var=get_rep_var_from_contact(contact,metric,joints)\n",
    "plot_mean_std_fill(rep*180/np.pi,var*180/np.pi,'r',ax)\n",
    "\n",
    "# PYTHON MODEL\n",
    "mean_exp,std_exp=get_mean_std_stride(df,\"angles_\"+what+\"_r\",interp=True,stride_choice=\"repmax\")\n",
    "plot_mean_std_fill(mean_exp*180/np.pi,std_exp*180/np.pi,'b',ax)\n",
    "\n",
    "plt.title(\"knee angle\")\n",
    "plt.xlabel(\"gait %\")\n",
    "plt.ylabel(\"Angle [deg]\")\n",
    "plt.legend([\"Winter\",\"CPP\",\"Python\"])\n",
    "plt.xlim([0,100])\n",
    "plt.tight_layout()\n",
    "plt.savefig(\"knee_cmp.png\",dpi=300)"
   ]
  },
  {
   "cell_type": "markdown",
   "metadata": {},
   "source": [
    "# Comparison with Open loop cpp\n",
    "\n",
    "## Muscle activation"
   ]
  },
  {
   "cell_type": "code",
   "execution_count": null,
   "metadata": {},
   "outputs": [],
   "source": [
    "RAW_REFERENCE_PATH=\"../../data/open_loop_comparison/openloop_python.csv\"\n",
    "OPEN_LOOP_CPP_PATH=\"../../data/openloop_cpp/openLoopPythonCheck/\"\n",
    "\n",
    "df=pd.read_csv(open(RAW_REFERENCE_PATH))\n",
    "sub_hip=df.filter(like=\"hip\",axis=1)\n",
    "\n",
    "df[sub_hip.columns]=-df[sub_hip.columns]\n",
    "\n",
    "ol_df=pd.read_csv(OPEN_LOOP_CPP_PATH+\"muscles_activity1.csv\")\n",
    "fy=df.filter(like=\"Fy\",axis=1) # adds fy field from python df to be able to split\n",
    "ol_df[fy.columns]=fy\n",
    "ol_df.head()"
   ]
  },
  {
   "cell_type": "code",
   "execution_count": null,
   "metadata": {},
   "outputs": [],
   "source": [
    "# Check some strides timestamps if needed\n",
    "spl,timestamps=split_stride(df,add_strike_lift(df),'act_bifemlh_l',with_timestamps=True)\n",
    "#timestamps"
   ]
  },
  {
   "cell_type": "code",
   "execution_count": null,
   "metadata": {},
   "outputs": [],
   "source": [
    "CPP_COLS=['left_gas', 'left_glu', 'left_hab', 'left_had', 'left_ham', 'left_hf',\n",
    "       'left_sol', 'left_ta', 'left_vas', 'right_gas', 'right_glu',\n",
    "       'right_hab', 'right_had', 'right_ham', 'right_hf', 'right_sol',\n",
    "       'right_ta', 'right_vas']\n",
    "PY_COLS=['act_bifemlh_l', 'act_bifemlh_r', 'act_glut_max_l', 'act_glut_max_r',\n",
    "       'act_med_gas_l', 'act_med_gas_r', 'act_psoas_l', 'act_psoas_r',\n",
    "       'act_soleus_l', 'act_soleus_r', 'act_tib_ant_l', 'act_tib_ant_r',\n",
    "       'act_vas_int_l', 'act_vas_int_r']\n",
    "MAP_COLS={'Left GAS':('act_med_gas_l','left_gas'),\n",
    "          'Right GAS':('act_med_gas_r','right_gas'),\n",
    "        'Left GLU':('act_glut_max_l','left_glu'),\n",
    "         'Right GLU':('act_glut_max_r','right_glu'),\n",
    "         'Left SOL':('act_soleus_l','left_sol')}\n",
    "#samp=[1200:1280]\n",
    "for short_key,map_keys in MAP_COLS.items():\n",
    "    key_py,key_cpp=map_keys\n",
    "    if (df[key_py]==ol_df[key_cpp]).all():\n",
    "        print(\"Same vals for\",key_cpp)\n",
    "    else:\n",
    "        plt.plot(df[key_py][1200:1280],label=short_key+'(py)')\n",
    "        plt.plot(ol_df[key_cpp][1200:1280],label=short_key+'(cpp)')\n",
    "        plt.legend()\n",
    "#plt.plot(act[1200:1280])"
   ]
  },
  {
   "cell_type": "code",
   "execution_count": null,
   "metadata": {},
   "outputs": [],
   "source": [
    "what='Left GAS'\n",
    "py_key,cpp_key=MAP_COLS[what]\n",
    "\n",
    "mean_exp,std_exp=get_mean_std_stride(df,py_key,interp=True,stride_choice=\"stride20\")\n",
    "ax=plot_mean_std_fill(mean_exp,std_exp,'b')\n",
    "\n",
    "mean_exp,std_exp=get_mean_std_stride(ol_df,cpp_key,interp=True,stride_choice=\"stride20\")\n",
    "plot_mean_std_fill(mean_exp,std_exp,'r',ax)\n",
    "\n",
    "\n",
    "\n",
    "plt.title(what)\n",
    "plt.xlabel(\"gait %\")\n",
    "plt.ylabel(\"Activation\")\n",
    "plt.legend([\"Python\",\"CPP\"]);"
   ]
  },
  {
   "cell_type": "code",
   "execution_count": null,
   "metadata": {},
   "outputs": [],
   "source": [
    "what='Left GLU'\n",
    "py_key,cpp_key=MAP_COLS[what]\n",
    "\n",
    "mean_exp,std_exp=get_mean_std_stride(df,py_key,interp=True,stride_choice=\"stride20\")\n",
    "ax=plot_mean_std_fill(mean_exp,std_exp,'b')\n",
    "\n",
    "mean_exp,std_exp=get_mean_std_stride(ol_df,cpp_key,interp=True,stride_choice=\"stride20\")\n",
    "plot_mean_std_fill(mean_exp,std_exp,'r',ax)\n",
    "\n",
    "\n",
    "\n",
    "plt.title(what)\n",
    "plt.xlabel(\"gait %\")\n",
    "plt.ylabel(\"Activation\")\n",
    "plt.legend([\"Python\",\"CPP\"]);"
   ]
  },
  {
   "cell_type": "code",
   "execution_count": null,
   "metadata": {},
   "outputs": [],
   "source": [
    "what='Left SOL'\n",
    "py_key,cpp_key=MAP_COLS[what]\n",
    "\n",
    "mean_exp,std_exp=get_mean_std_stride(df,py_key,interp=True,stride_choice=\"stride20\")\n",
    "ax=plot_mean_std_fill(mean_exp,std_exp,'b')\n",
    "\n",
    "mean_exp,std_exp=get_mean_std_stride(ol_df,cpp_key,interp=True,stride_choice=\"stride20\")\n",
    "plot_mean_std_fill(mean_exp,std_exp,'r',ax)\n",
    "\n",
    "\n",
    "\n",
    "plt.title(what)\n",
    "plt.xlabel(\"gait %\")\n",
    "plt.ylabel(\"Activation\")\n",
    "plt.legend([\"Python\",\"CPP\"]);"
   ]
  },
  {
   "cell_type": "markdown",
   "metadata": {},
   "source": [
    "## Torques"
   ]
  },
  {
   "cell_type": "code",
   "execution_count": null,
   "metadata": {},
   "outputs": [],
   "source": [
    "RAW_REFERENCE_PATH=\"../../data/raw_reference.csv\"\n",
    "OPEN_LOOP_CPP_PATH=\"../../data/openloop_cpp/openLoopPythonCheck/\"\n",
    "\n",
    "df=pd.read_csv(open(RAW_REFERENCE_PATH))\n",
    "sub_hip=df.filter(like=\"hip\",axis=1)\n",
    "df[sub_hip.columns]=-df[sub_hip.columns]\n",
    "\n",
    "ol_df=pd.read_csv(OPEN_LOOP_CPP_PATH+\"joints_force1.csv\")\n",
    "fy=df.filter(like=\"Fy\",axis=1) # adds fy field from python df to be able to split\n",
    "ol_df[fy.columns]=fy\n",
    "ol_df.columns"
   ]
  },
  {
   "cell_type": "code",
   "execution_count": null,
   "metadata": {},
   "outputs": [],
   "source": [
    "PY_COLS=['moments_ankle_l', 'moments_ankle_r', 'moments_hip_l', 'moments_hip_r',\n",
    "       'moments_knee_l', 'moments_knee_r']\n",
    "CPP_COLS=['TORQUE_HIP_LEFT', 'TORQUE_HIPCOR_LEFT', 'TORQUE_KNEE_LEFT',\n",
    "       'TORQUE_ANKLE_LEFT', 'TORQUE_HIP_RIGHT', 'TORQUE_HIPCOR_RIGHT',\n",
    "       'TORQUE_KNEE_RIGHT', 'TORQUE_ANKLE_RIGHT']\n",
    "MAP_COLS={'Left ankle':('moments_ankle_l','TORQUE_ANKLE_LEFT'),\n",
    "          'Right ankle':('moments_ankle_r','TORQUE_ANKLE_RIGHT'),\n",
    "          'Left hip': ('moments_hip_l','TORQUE_HIP_LEFT'),\n",
    "          'Right hip': ('moments_hip_r','TORQUE_HIP_RIGHT'),\n",
    "          'Left knee':('moments_knee_l','TORQUE_KNEE_LEFT'),\n",
    "          'Right knee':('moments_knee_r','TORQUE_KNEE_RIGHT')}\n",
    "\n",
    "for short_key,map_keys in MAP_COLS.items():\n",
    "    key_py,key_cpp=map_keys\n",
    "    if (df[key_py]==ol_df[key_cpp]).all():\n",
    "        print(\"Same vals for\",key_cpp)\n",
    "    else:\n",
    "        plt.plot(df[key_py][1200:1280],label=short_key+'(py)')\n",
    "        plt.plot(ol_df[key_cpp][1200:1280],label=short_key+'(cpp)')\n",
    "        plt.legend()"
   ]
  },
  {
   "cell_type": "code",
   "execution_count": null,
   "metadata": {},
   "outputs": [],
   "source": [
    "what='Left ankle'\n",
    "py_key,cpp_key=MAP_COLS[what]\n",
    "\n",
    "mean_exp,std_exp=get_mean_std_stride(df,py_key,interp=True,stride_choice=\"repmax\")\n",
    "ax=plot_mean_std_fill(mean_exp,std_exp,'b')\n",
    "\n",
    "mean_exp,std_exp=get_mean_std_stride(ol_df,cpp_key,interp=True,stride_choice=\"repmax\")\n",
    "plot_mean_std_fill(mean_exp,std_exp,'r',ax)\n",
    "plt.title(what)\n",
    "plt.xlabel(\"gait %\")\n",
    "plt.ylabel(\"Torque\")\n",
    "plt.legend([\"Python\",\"CPP\"]);"
   ]
  },
  {
   "cell_type": "code",
   "execution_count": null,
   "metadata": {},
   "outputs": [],
   "source": [
    "what='Left hip'\n",
    "py_key,cpp_key=MAP_COLS[what]\n",
    "\n",
    "mean_exp,std_exp=get_mean_std_stride(df,py_key,interp=True,stride_choice=\"repmax\")\n",
    "ax=plot_mean_std_fill(mean_exp,std_exp,'b')\n",
    "\n",
    "mean_exp,std_exp=get_mean_std_stride(ol_df,cpp_key,interp=True,stride_choice=\"repmax\")\n",
    "plot_mean_std_fill(mean_exp,std_exp,'r',ax)\n",
    "plt.title(what)\n",
    "plt.xlabel(\"gait %\")\n",
    "plt.ylabel(\"Torque\")\n",
    "plt.legend([\"Python\",\"CPP\"]);"
   ]
  },
  {
   "cell_type": "markdown",
   "metadata": {},
   "source": [
    "- Looks like python ankle has no torque during swing ?? -> should it ?\n",
    "- WHAAAT ? (10 oom in hip/knee torques) -> \n",
    "\n",
    "## Muscle force"
   ]
  },
  {
   "cell_type": "code",
   "execution_count": null,
   "metadata": {},
   "outputs": [],
   "source": [
    "RAW_REFERENCE_PATH=\"../../data/raw_reference.csv\"\n",
    "OPEN_LOOP_CPP_PATH=\"../../data/openloop_cpp/openLoopPythonCheck/\"\n",
    "\n",
    "df=pd.read_csv(open(RAW_REFERENCE_PATH))\n",
    "sub_hip=df.filter(like=\"hip\",axis=1)\n",
    "df[sub_hip.columns]=-df[sub_hip.columns]\n",
    "\n",
    "ol_df=pd.read_csv(OPEN_LOOP_CPP_PATH+\"muscles_force1.csv\")\n",
    "fy=df.filter(like=\"Fy\",axis=1) # adds fy field from python df to be able to split\n",
    "ol_df[fy.columns]=fy\n",
    "ol_df.columns"
   ]
  },
  {
   "cell_type": "code",
   "execution_count": null,
   "metadata": {},
   "outputs": [],
   "source": [
    "# DOES FORCE == STIM ??? (dont have a \"force\" column) -> NOPE\n",
    "CPP_COLS=['left_gas', 'left_glu', 'left_hab', 'left_had', 'left_ham', 'left_hf',\n",
    "       'left_sol', 'left_ta', 'left_vas', 'right_gas', 'right_glu',\n",
    "       'right_hab', 'right_had', 'right_ham', 'right_hf', 'right_sol',\n",
    "       'right_ta', 'right_vas']\n",
    "PY_COLS=['stim_bifemlh_l', 'stim_bifemlh_r', 'stim_glut_max_l',\n",
    "       'stim_glut_max_r', 'stim_med_gas_l', 'stim_med_gas_r', 'stim_psoas_l',\n",
    "       'stim_psoas_r', 'stim_soleus_l', 'stim_soleus_r', 'stim_tib_ant_l',\n",
    "       'stim_tib_ant_r', 'stim_vas_int_l', 'stim_vas_int_r']\n"
   ]
  },
  {
   "cell_type": "code",
   "execution_count": null,
   "metadata": {},
   "outputs": [],
   "source": [
    "mean_exp,std_exp=get_mean_std_stride(df,'stim_med_gas_l',interp=True,stride_choice=\"repmax\")\n",
    "ax=plot_mean_std_fill(mean_exp,std_exp,'b')\n",
    "\n",
    "mean_exp,std_exp=get_mean_std_stride(ol_df,'left_gas',interp=True,stride_choice=\"repmax\")\n",
    "plot_mean_std_fill(mean_exp,std_exp,'r',ax)\n",
    "plt.title(\"Left GAS\")\n",
    "plt.xlabel(\"gait %\")\n",
    "plt.ylabel(\"Activation\")\n",
    "plt.legend([\"Python\",\"CPP\"]);"
   ]
  },
  {
   "cell_type": "markdown",
   "metadata": {},
   "source": [
    "# Comparison between open loops"
   ]
  },
  {
   "cell_type": "code",
   "execution_count": 8,
   "metadata": {},
   "outputs": [],
   "source": [
    "PYTHON_OL=\"../../data/open_loop_comparison/openloop_python.csv\"\n",
    "df_py=pd.read_csv(PYTHON_OL)\n",
    "df_py.head()\n",
    "inputs=df_py.filter(like=\"angle\",axis=1)"
   ]
  },
  {
   "cell_type": "code",
   "execution_count": 11,
   "metadata": {},
   "outputs": [
    {
     "data": {
      "text/plain": [
       "[<matplotlib.lines.Line2D at 0x7f282ba77fd0>,\n",
       " <matplotlib.lines.Line2D at 0x7f282ba59080>,\n",
       " <matplotlib.lines.Line2D at 0x7f282ba591d0>,\n",
       " <matplotlib.lines.Line2D at 0x7f282ba59320>,\n",
       " <matplotlib.lines.Line2D at 0x7f282ba59470>,\n",
       " <matplotlib.lines.Line2D at 0x7f282ba595c0>,\n",
       " <matplotlib.lines.Line2D at 0x7f282ba59710>]"
      ]
     },
     "execution_count": 11,
     "metadata": {},
     "output_type": "execute_result"
    },
    {
     "data": {
      "image/png": "[encoded data removed]",
      "text/plain": [
       "<Figure size 432x288 with 1 Axes>"
      ]
     },
     "metadata": {
      "needs_background": "light"
     },
     "output_type": "display_data"
    }
   ],
   "source": [
    "plt.plot(inputs[0:1000])"
   ]
  }
 ],
 "metadata": {
  "kernelspec": {
   "display_name": "Python 3",
   "language": "python",
   "name": "python3"
  },
  "language_info": {
   "codemirror_mode": {
    "name": "ipython",
    "version": 3
   },
   "file_extension": ".py",
   "mimetype": "text/x-python",
   "name": "python",
   "nbconvert_exporter": "python",
   "pygments_lexer": "ipython3",
   "version": "3.7.2"
  }
 },
 "nbformat": 4,
 "nbformat_minor": 2
}
